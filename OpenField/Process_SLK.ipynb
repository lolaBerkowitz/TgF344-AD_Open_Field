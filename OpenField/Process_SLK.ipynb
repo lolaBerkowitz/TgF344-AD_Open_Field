{
 "cells": [
  {
   "cell_type": "markdown",
   "metadata": {},
   "source": [
    "## This notebook imports slk and saves to .csv for easier access. \n",
    "note. SLK is read using sylk_parser and saved as text file. Text files are then read back in, coordinates are converted to numeric, and H:M:S timestamps are converted into seconds. The new dataframe with numeric coords and time in seconds is saved back to orginial data folder. \n",
    "\n",
    "Also plots the paths and saves to folder. \n",
    "Berkowitz 06/2021"
   ]
  },
  {
   "cell_type": "code",
   "execution_count": 1,
   "metadata": {},
   "outputs": [],
   "source": [
    "# file structures and io\n",
    "import glob\n",
    "import os\n",
    "from io import StringIO\n",
    "import csv\n",
    "from sylk_parser import SylkParser\n",
    "\n",
    "# data wrangling \n",
    "import pandas as pd\n",
    "\n",
    "# plotting \n",
    "import matplotlib.pyplot as plt"
   ]
  },
  {
   "cell_type": "code",
   "execution_count": 2,
   "metadata": {},
   "outputs": [],
   "source": [
    "def slk_to_text(file,path):\n",
    "    \"\"\" convert anymaze slk to txt, and saves back to file location\"\"\"\n",
    "    parser = SylkParser(path+file+'.slk')\n",
    "    fbuf = StringIO()\n",
    "    parser.to_csv(fbuf)\n",
    "    test_results = fbuf.getvalue()\n",
    "    # write text document\n",
    "    f = open(path+file+'.txt', 'w')\n",
    "    f.write(test_results)\n",
    "    f.close()\n",
    "    \n",
    "def get_sec(times):\n",
    "    \"\"\"Get Seconds from time.\"\"\"\n",
    "    seconds = []\n",
    "    for time_str in times:\n",
    "        h, m, s = time_str.split(':')\n",
    "        seconds.append(pd.to_numeric(h) * 3600 + pd.to_numeric(m) * 60 + pd.to_numeric(s))\n",
    "    return seconds\n",
    "\n",
    "def read_anymaze_txt(file_path,dest_path):\n",
    "    \"\"\"\n",
    "    reads text file of anymaze data and saves xy coordinates as numpy arrays\n",
    "    \"\"\"\n",
    "    df = pd.read_csv(file_path)\n",
    "    # convert coordinates to numeric\n",
    "    x = pd.to_numeric(df['Centre position X'][1:]) # start at index 1 given anymaze doesn't provide coordinate for time at 0 sec\n",
    "    y = pd.to_numeric(df['Centre position Y'][1:]) # start at index 1 given anymaze doesn't provide coordinate for time at 0 sec\n",
    "    # convert H:M:S timestamps to seconds\n",
    "    seconds = get_sec(df['Time'])\n",
    "    # Create new df \n",
    "    new_df = pd.DataFrame()\n",
    "    new_df['ts'] = seconds[1:]\n",
    "    new_df['x'] = x.values\n",
    "    new_df['y'] = y.values\n",
    "    new_df.to_csv(dest_path+os.path.split(file_path)[-1][:-4]+'.csv',index=False)"
   ]
  },
  {
   "cell_type": "markdown",
   "metadata": {},
   "source": [
    "## Save .slk files as text files"
   ]
  },
  {
   "cell_type": "code",
   "execution_count": 179,
   "metadata": {},
   "outputs": [],
   "source": [
    "files = glob.glob(\"H:/OF/**/*.slk\")\n",
    "\n",
    "for file in files: \n",
    "    path = os.path.split(file)[0]\n",
    "    name = os.path.split(file)[-1]\n",
    "    slk_to_text(name[:-4],path+\"/\")"
   ]
  },
  {
   "cell_type": "markdown",
   "metadata": {},
   "source": [
    "## Read in .txt file and save coordinates as csv"
   ]
  },
  {
   "cell_type": "code",
   "execution_count": 180,
   "metadata": {},
   "outputs": [],
   "source": [
    "files = glob.glob(\"H:/OF/**/*.txt\")\n",
    "\n",
    "for file in files: \n",
    "    # this function converts strings to \n",
    "    read_anymaze_txt(file,'H:/OF/coords_csv/')\n"
   ]
  },
  {
   "cell_type": "markdown",
   "metadata": {},
   "source": [
    "## Plot paths and save"
   ]
  },
  {
   "cell_type": "code",
   "execution_count": 21,
   "metadata": {},
   "outputs": [],
   "source": [
    "files = glob.glob(\"H:/OF/coords_csv/*.csv\")\n",
    "\n",
    "for file in files: \n",
    "    df = pd.read_csv(file)\n",
    "    # this function converts strings to \n",
    "    fig = plt.figure(figsize = (7,7))\n",
    "    plt.plot(df.x,df.y)\n",
    "    plt.savefig('H:/OF/figures/paths/' + file.split('\\\\')[1] +'.tiff',dpi=300,bbox_inches='tight')\n",
    "    plt.close()\n"
   ]
  }
 ],
 "metadata": {
  "kernelspec": {
   "display_name": "Python 3",
   "language": "python",
   "name": "python3"
  },
  "language_info": {
   "codemirror_mode": {
    "name": "ipython",
    "version": 3
   },
   "file_extension": ".py",
   "mimetype": "text/x-python",
   "name": "python",
   "nbconvert_exporter": "python",
   "pygments_lexer": "ipython3",
   "version": "3.8.5"
  }
 },
 "nbformat": 4,
 "nbformat_minor": 4
}
